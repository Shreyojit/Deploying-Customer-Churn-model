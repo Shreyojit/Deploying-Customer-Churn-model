{
 "cells": [
  {
   "cell_type": "code",
   "execution_count": 1,
   "metadata": {},
   "outputs": [],
   "source": [
    "import os"
   ]
  },
  {
   "cell_type": "code",
   "execution_count": 2,
   "metadata": {},
   "outputs": [
    {
     "data": {
      "text/plain": [
       "'/home2/cslab/Music/Mtech-projects/Deploying-Customer-Churn-model/notebook'"
      ]
     },
     "execution_count": 2,
     "metadata": {},
     "output_type": "execute_result"
    }
   ],
   "source": [
    "%pwd\n"
   ]
  },
  {
   "cell_type": "code",
   "execution_count": 3,
   "metadata": {},
   "outputs": [],
   "source": [
    "os.chdir('../')"
   ]
  },
  {
   "cell_type": "code",
   "execution_count": 4,
   "metadata": {},
   "outputs": [
    {
     "data": {
      "text/plain": [
       "'/home2/cslab/Music/Mtech-projects/Deploying-Customer-Churn-model'"
      ]
     },
     "execution_count": 4,
     "metadata": {},
     "output_type": "execute_result"
    }
   ],
   "source": [
    "%pwd"
   ]
  },
  {
   "cell_type": "code",
   "execution_count": 5,
   "metadata": {},
   "outputs": [],
   "source": [
    "from dataclasses import dataclass\n",
    "from pathlib import Path\n",
    "\n",
    "\n",
    "@dataclass(frozen=True)\n",
    "class ModelTrainerConfig:\n",
    "    root_dir: Path\n",
    "    train_data_path: Path\n",
    "    test_data_path: Path\n",
    "    model_name: str\n",
    "    n_estimators: int\n",
    "    num_leaves: int\n",
    "    learning_rate: float\n",
    "    max_depth: int\n",
    "    target_column: str"
   ]
  },
  {
   "cell_type": "code",
   "execution_count": 6,
   "metadata": {},
   "outputs": [],
   "source": [
    "from mlFlowProject.constants import *\n",
    "from mlFlowProject.utils.common import read_yaml, create_directories"
   ]
  },
  {
   "cell_type": "code",
   "execution_count": 7,
   "metadata": {},
   "outputs": [],
   "source": [
    "class ConfigurationManager:\n",
    "    def __init__(\n",
    "        self,\n",
    "        config_filepath = CONFIG_FILE_PATH,\n",
    "        params_filepath = PARAMS_FILE_PATH,\n",
    "        schema_filepath = SCHEMA_FILE_PATH):\n",
    "\n",
    "        self.config = read_yaml(config_filepath)\n",
    "        self.params = read_yaml(params_filepath)\n",
    "        self.schema = read_yaml(schema_filepath)\n",
    "\n",
    "        create_directories([self.config.artifacts_root])\n",
    "\n",
    "    \n",
    "    def get_model_trainer_config(self) -> ModelTrainerConfig:\n",
    "        config = self.config.model_trainer\n",
    "        params = self.params.LightGBM\n",
    "        schema =  self.schema.TARGET_COLUMN\n",
    "\n",
    "        create_directories([config.root_dir])\n",
    "\n",
    "        model_trainer_config = ModelTrainerConfig(\n",
    "            root_dir=config.root_dir,\n",
    "            train_data_path=config.train_data_path,\n",
    "            test_data_path=config.test_data_path,\n",
    "            model_name=config.model_name,\n",
    "            n_estimators=params.n_estimators,\n",
    "            num_leaves=params.num_leaves,\n",
    "            learning_rate=params.learning_rate,\n",
    "            max_depth=params.max_depth,\n",
    "            target_column=schema.name\n",
    "        )\n",
    "\n",
    "        return model_trainer_config\n"
   ]
  },
  {
   "cell_type": "code",
   "execution_count": 8,
   "metadata": {},
   "outputs": [],
   "source": [
    "import pandas as pd\n",
    "import os\n",
    "from mlFlowProject import logger\n",
    "from lightgbm import LGBMClassifier\n",
    "import joblib\n"
   ]
  },
  {
   "cell_type": "code",
   "execution_count": 9,
   "metadata": {},
   "outputs": [],
   "source": [
    "class ModelTrainer:\n",
    "    def __init__(self, config: ModelTrainerConfig):\n",
    "        self.config = config\n",
    "        \n",
    "    \n",
    "    def train(self):\n",
    "        train_data = pd.read_csv(self.config.train_data_path)\n",
    "        test_data = pd.read_csv(self.config.test_data_path)\n",
    "\n",
    "        print(train_data.info())\n",
    "        print(test_data.shape)\n",
    "\n",
    "        train_x = train_data.drop([self.config.target_column], axis=1)\n",
    "        test_x = test_data.drop([self.config.target_column], axis=1)\n",
    "        train_y = train_data[[self.config.target_column]]\n",
    "        test_y = test_data[[self.config.target_column]]\n",
    "\n",
    "        lgbm_clf = LGBMClassifier(n_estimators=self.config.n_estimators, num_leaves=self.config.num_leaves, learning_rate=self.config.learning_rate, max_depth= self.config.max_depth)\n",
    "        lgbm_clf.fit(train_x, train_y)\n",
    "\n",
    "        joblib.dump(lgbm_clf, os.path.join(self.config.root_dir, self.config.model_name))\n"
   ]
  },
  {
   "cell_type": "code",
   "execution_count": 10,
   "metadata": {},
   "outputs": [
    {
     "name": "stdout",
     "output_type": "stream",
     "text": [
      "[2025-02-06 09:52:12,271: INFO: common: yaml file: config/config.yaml loaded successfully]\n",
      "[2025-02-06 09:52:12,273: INFO: common: yaml file: params.yaml loaded successfully]\n",
      "[2025-02-06 09:52:12,274: INFO: common: yaml file: schema.yaml loaded successfully]\n",
      "[2025-02-06 09:52:12,275: INFO: common: created directory at: artifacts]\n",
      "[2025-02-06 09:52:12,275: INFO: common: created directory at: artifacts/model_trainer]\n",
      "<class 'pandas.core.frame.DataFrame'>\n",
      "RangeIndex: 7498 entries, 0 to 7497\n",
      "Data columns (total 27 columns):\n",
      " #   Column                           Non-Null Count  Dtype  \n",
      "---  ------                           --------------  -----  \n",
      " 0   num_pipeline__RowNumber          7498 non-null   float64\n",
      " 1   num_pipeline__CustomerId         7498 non-null   float64\n",
      " 2   num_pipeline__CreditScore        7498 non-null   float64\n",
      " 3   num_pipeline__Gender             7498 non-null   float64\n",
      " 4   num_pipeline__Age                7498 non-null   float64\n",
      " 5   num_pipeline__Balance            7498 non-null   float64\n",
      " 6   num_pipeline__NumOfProducts      7498 non-null   float64\n",
      " 7   num_pipeline__EstimatedSalary    7498 non-null   float64\n",
      " 8   cat_pipeline__Geography_France   7498 non-null   float64\n",
      " 9   cat_pipeline__Geography_Germany  7498 non-null   float64\n",
      " 10  cat_pipeline__Geography_Spain    7498 non-null   float64\n",
      " 11  cat_pipeline__Tenure_0           7498 non-null   float64\n",
      " 12  cat_pipeline__Tenure_1           7498 non-null   float64\n",
      " 13  cat_pipeline__Tenure_2           7498 non-null   float64\n",
      " 14  cat_pipeline__Tenure_3           7498 non-null   float64\n",
      " 15  cat_pipeline__Tenure_4           7498 non-null   float64\n",
      " 16  cat_pipeline__Tenure_5           7498 non-null   float64\n",
      " 17  cat_pipeline__Tenure_6           7498 non-null   float64\n",
      " 18  cat_pipeline__Tenure_7           7498 non-null   float64\n",
      " 19  cat_pipeline__Tenure_8           7498 non-null   float64\n",
      " 20  cat_pipeline__Tenure_9           7498 non-null   float64\n",
      " 21  cat_pipeline__Tenure_10          7498 non-null   float64\n",
      " 22  cat_pipeline__HasCrCard_0        7498 non-null   float64\n",
      " 23  cat_pipeline__HasCrCard_1        7498 non-null   float64\n",
      " 24  cat_pipeline__IsActiveMember_0   7498 non-null   float64\n",
      " 25  cat_pipeline__IsActiveMember_1   7498 non-null   float64\n",
      " 26  Exited                           7498 non-null   int64  \n",
      "dtypes: float64(26), int64(1)\n",
      "memory usage: 1.5 MB\n",
      "None\n",
      "(2500, 27)\n",
      "[LightGBM] [Info] Number of positive: 1510, number of negative: 5988\n",
      "[LightGBM] [Info] Auto-choosing row-wise multi-threading, the overhead of testing was 0.000255 seconds.\n",
      "You can set `force_row_wise=true` to remove the overhead.\n",
      "And if memory is not enough, you can set `force_col_wise=true`.\n",
      "[LightGBM] [Info] Total Bins 1381\n",
      "[LightGBM] [Info] Number of data points in the train set: 7498, number of used features: 26\n",
      "[LightGBM] [Info] [binary:BoostFromScore]: pavg=0.201387 -> initscore=-1.377648\n",
      "[LightGBM] [Info] Start training from score -1.377648\n"
     ]
    },
    {
     "name": "stderr",
     "output_type": "stream",
     "text": [
      "/home2/cslab/miniconda3/envs/cancer_detection/lib/python3.9/site-packages/sklearn/preprocessing/_label.py:97: DataConversionWarning: A column-vector y was passed when a 1d array was expected. Please change the shape of y to (n_samples, ), for example using ravel().\n",
      "  y = column_or_1d(y, warn=True)\n",
      "/home2/cslab/miniconda3/envs/cancer_detection/lib/python3.9/site-packages/sklearn/preprocessing/_label.py:132: DataConversionWarning: A column-vector y was passed when a 1d array was expected. Please change the shape of y to (n_samples, ), for example using ravel().\n",
      "  y = column_or_1d(y, dtype=self.classes_.dtype, warn=True)\n"
     ]
    }
   ],
   "source": [
    "try:\n",
    "    config = ConfigurationManager()\n",
    "    model_trainer_config = config.get_model_trainer_config()\n",
    "    model_trainer_config = ModelTrainer(config=model_trainer_config)\n",
    "    model_trainer_config.train()\n",
    "except Exception as e:\n",
    "    raise e"
   ]
  },
  {
   "cell_type": "code",
   "execution_count": null,
   "metadata": {},
   "outputs": [],
   "source": []
  }
 ],
 "metadata": {
  "kernelspec": {
   "display_name": "cancer_detection",
   "language": "python",
   "name": "python3"
  },
  "language_info": {
   "codemirror_mode": {
    "name": "ipython",
    "version": 3
   },
   "file_extension": ".py",
   "mimetype": "text/x-python",
   "name": "python",
   "nbconvert_exporter": "python",
   "pygments_lexer": "ipython3",
   "version": "3.9.21"
  }
 },
 "nbformat": 4,
 "nbformat_minor": 2
}
